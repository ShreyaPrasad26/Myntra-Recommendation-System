{
 "cells": [
  {
   "cell_type": "markdown",
   "metadata": {},
   "source": [
    "# Using myntra fashion product details to recommend "
   ]
  },
  {
   "cell_type": "code",
   "execution_count": null,
   "metadata": {
    "execution": {
     "iopub.execute_input": "2024-07-15T16:49:55.384697Z",
     "iopub.status.busy": "2024-07-15T16:49:55.384266Z",
     "iopub.status.idle": "2024-07-15T16:49:55.945963Z",
     "shell.execute_reply": "2024-07-15T16:49:55.944366Z",
     "shell.execute_reply.started": "2024-07-15T16:49:55.384664Z"
    },
    "scrolled": true
   },
   "outputs": [],
   "source": [
    "import os\n",
    "import pandas as pd\n",
    "import numpy as np\n",
    "from scipy.sparse import csr_matrix\n",
    "from scipy.sparse.linalg import svds\n",
    "import pandas as pd \n",
    "import spacy \n",
    "import requests \n",
    "from bs4 import BeautifulSoup\n",
    "from spacy import displacy\n",
    "from sklearn.preprocessing import OneHotEncoder\n",
    "from sklearn.metrics.pairwise import cosine_similarity"
   ]
  },
  {
   "cell_type": "code",
   "execution_count": null,
   "metadata": {
    "execution": {
     "iopub.execute_input": "2024-07-15T16:49:56.808807Z",
     "iopub.status.busy": "2024-07-15T16:49:56.808379Z",
     "iopub.status.idle": "2024-07-15T16:49:57.270708Z",
     "shell.execute_reply": "2024-07-15T16:49:57.269314Z",
     "shell.execute_reply.started": "2024-07-15T16:49:56.808770Z"
    },
    "scrolled": true
   },
   "outputs": [],
   "source": [
    "db_path = \"/kaggle/input/myntra-fashion-product-dataset/Fashion Dataset.csv\"\n",
    "db = pd.read_csv(db_path)"
   ]
  },
  {
   "cell_type": "code",
   "execution_count": null,
   "metadata": {
    "execution": {
     "iopub.execute_input": "2024-07-15T16:49:57.571840Z",
     "iopub.status.busy": "2024-07-15T16:49:57.571418Z",
     "iopub.status.idle": "2024-07-15T16:49:57.580274Z",
     "shell.execute_reply": "2024-07-15T16:49:57.578961Z",
     "shell.execute_reply.started": "2024-07-15T16:49:57.571808Z"
    },
    "scrolled": true
   },
   "outputs": [],
   "source": [
    "print(\"Columns:\",db.columns)\n",
    "print(\"Size of database:\",db.shape)"
   ]
  },
  {
   "cell_type": "code",
   "execution_count": null,
   "metadata": {
    "execution": {
     "iopub.execute_input": "2024-07-15T16:49:58.597927Z",
     "iopub.status.busy": "2024-07-15T16:49:58.597490Z",
     "iopub.status.idle": "2024-07-15T16:49:58.639819Z",
     "shell.execute_reply": "2024-07-15T16:49:58.638517Z",
     "shell.execute_reply.started": "2024-07-15T16:49:58.597893Z"
    },
    "scrolled": true
   },
   "outputs": [],
   "source": [
    "db = db.rename(columns={'Unnamed: 0':'Index'})\n",
    "db = db.set_index('Index')\n",
    "db.head()"
   ]
  },
  {
   "cell_type": "code",
   "execution_count": null,
   "metadata": {
    "execution": {
     "iopub.execute_input": "2024-07-15T16:49:59.657441Z",
     "iopub.status.busy": "2024-07-15T16:49:59.656977Z",
     "iopub.status.idle": "2024-07-15T16:49:59.728246Z",
     "shell.execute_reply": "2024-07-15T16:49:59.726928Z",
     "shell.execute_reply.started": "2024-07-15T16:49:59.657403Z"
    },
    "scrolled": true
   },
   "outputs": [],
   "source": [
    "# treating null values \n",
    "\n",
    "db.isna().sum()\n",
    "db = db.dropna(subset=['p_id'])\n",
    "db = db.dropna(subset=['colour'])\n",
    "db = db.fillna(0)\n",
    "db['p_id'] = db['p_id'].astype(int)\n",
    "db.isna().sum()"
   ]
  },
  {
   "cell_type": "code",
   "execution_count": null,
   "metadata": {
    "execution": {
     "iopub.execute_input": "2024-07-15T16:50:00.725339Z",
     "iopub.status.busy": "2024-07-15T16:50:00.724199Z",
     "iopub.status.idle": "2024-07-15T16:50:08.167547Z",
     "shell.execute_reply": "2024-07-15T16:50:08.166272Z",
     "shell.execute_reply.started": "2024-07-15T16:50:00.725294Z"
    },
    "scrolled": true
   },
   "outputs": [],
   "source": [
    "nlp = spacy.load(\"en_core_web_sm\")\n",
    "pd.set_option(\"display.max_rows\", 200)"
   ]
  },
  {
   "cell_type": "code",
   "execution_count": null,
   "metadata": {
    "execution": {
     "iopub.execute_input": "2024-07-15T16:50:08.170461Z",
     "iopub.status.busy": "2024-07-15T16:50:08.169811Z",
     "iopub.status.idle": "2024-07-15T16:52:30.050717Z",
     "shell.execute_reply": "2024-07-15T16:52:30.049532Z",
     "shell.execute_reply.started": "2024-07-15T16:50:08.170425Z"
    },
    "scrolled": true
   },
   "outputs": [],
   "source": [
    "# Remove stop words from item name \n",
    "\n",
    "def remove_stop_words(text):\n",
    "    doc = nlp(text)\n",
    "    filtered_words = [token.text for token in doc if not token.is_stop]\n",
    "    return ' '.join(filtered_words)\n",
    "\n",
    "docs = nlp.pipe(db['name'], batch_size=50)\n",
    "mod_item_name = [remove_stop_words(doc) for doc in docs]\n",
    "\n",
    "db['name'] = mod_item_name\n",
    "db.head()"
   ]
  },
  {
   "cell_type": "code",
   "execution_count": null,
   "metadata": {
    "execution": {
     "iopub.execute_input": "2024-07-15T16:52:30.053635Z",
     "iopub.status.busy": "2024-07-15T16:52:30.053182Z",
     "iopub.status.idle": "2024-07-15T16:52:30.061398Z",
     "shell.execute_reply": "2024-07-15T16:52:30.060109Z",
     "shell.execute_reply.started": "2024-07-15T16:52:30.053594Z"
    },
    "scrolled": true
   },
   "outputs": [],
   "source": [
    "# Recommend from cosine similarity matrix \n",
    "\n",
    "def recommend_cosine(df, item_id):\n",
    "    if item_id not in df['p_id'].values:\n",
    "        print(f\"Item with p_id {item_id} not found in the DataFrame.\")\n",
    "        return None\n",
    "    item_index = df[df['p_id'] == item_id].index[0]\n",
    "    similarity_scores = similarity_matrix[item_index]\n",
    "    similar_indices = similarity_scores.argsort()[::-1][1:6]\n",
    "    top_3_items = df.iloc[similar_indices]\n",
    "    return top_3_items"
   ]
  },
  {
   "cell_type": "code",
   "execution_count": null,
   "metadata": {
    "execution": {
     "iopub.execute_input": "2024-07-15T16:52:30.063744Z",
     "iopub.status.busy": "2024-07-15T16:52:30.062790Z",
     "iopub.status.idle": "2024-07-15T16:52:30.094927Z",
     "shell.execute_reply": "2024-07-15T16:52:30.093594Z",
     "shell.execute_reply.started": "2024-07-15T16:52:30.063712Z"
    },
    "scrolled": true
   },
   "outputs": [],
   "source": [
    "item_name = db['name']\n",
    "print('Number of null values:',item_name.isna().sum())\n",
    "print('Shape of matrix',item_name.shape)\n",
    "print('Number of unique product names:',item_name.nunique())"
   ]
  },
  {
   "cell_type": "code",
   "execution_count": null,
   "metadata": {
    "execution": {
     "iopub.execute_input": "2024-07-15T16:52:30.098522Z",
     "iopub.status.busy": "2024-07-15T16:52:30.097910Z",
     "iopub.status.idle": "2024-07-15T16:52:30.404424Z",
     "shell.execute_reply": "2024-07-15T16:52:30.403318Z",
     "shell.execute_reply.started": "2024-07-15T16:52:30.098473Z"
    },
    "scrolled": true
   },
   "outputs": [],
   "source": [
    "# Remove brand name from item name \n",
    "\n",
    "def remove_brand_from_product(row):\n",
    "    brand_name = row['brand']\n",
    "    product_name = row['name']\n",
    "    \n",
    "    if brand_name.lower() in product_name.lower():\n",
    "        product_name = product_name.replace(brand_name, '').strip()\n",
    "    return product_name\n",
    "\n",
    "db['name'] = db.apply(remove_brand_from_product, axis=1)\n",
    "db.head()"
   ]
  },
  {
   "cell_type": "code",
   "execution_count": null,
   "metadata": {
    "execution": {
     "iopub.execute_input": "2024-07-15T15:36:44.086820Z",
     "iopub.status.busy": "2024-07-15T15:36:44.086427Z",
     "iopub.status.idle": "2024-07-15T15:36:45.768347Z",
     "shell.execute_reply": "2024-07-15T15:36:45.766819Z",
     "shell.execute_reply.started": "2024-07-15T15:36:44.086788Z"
    },
    "scrolled": true
   },
   "outputs": [],
   "source": [
    "# Create new columns to store colors from each item \n",
    "\n",
    "import spacy\n",
    "import webcolors\n",
    "import pandas as pd\n",
    "\n",
    "nlp = spacy.load(\"en_core_web_sm\")\n",
    "\n",
    "color_names = set(webcolors.CSS3_NAMES_TO_HEX.keys())\n",
    "def extract_colors(text):\n",
    "    words = text.split()\n",
    "    colors = [word for word in words if word.lower() in color_names]\n",
    "    return colors if colors else ['None']\n",
    "\n",
    "db['color'] = db['name'].apply(extract_colors)\n",
    "db['color'] = db['color'].apply(list_to_comma_separated)\n",
    "db.head()"
   ]
  },
  {
   "cell_type": "code",
   "execution_count": null,
   "metadata": {
    "execution": {
     "iopub.status.busy": "2024-07-15T15:36:45.770089Z",
     "iopub.status.idle": "2024-07-15T15:36:45.770744Z",
     "shell.execute_reply": "2024-07-15T15:36:45.770455Z",
     "shell.execute_reply.started": "2024-07-15T15:36:45.770428Z"
    },
    "scrolled": true
   },
   "outputs": [],
   "source": [
    "db = db.sort_values(by=['avg_rating','ratingCount'],ascending=[False,False])\n",
    "db.head()"
   ]
  },
  {
   "cell_type": "code",
   "execution_count": null,
   "metadata": {
    "scrolled": true
   },
   "outputs": [],
   "source": [
    "columns = ['']\n",
    "db = db.drop(columns, axis=1)"
   ]
  },
  {
   "cell_type": "code",
   "execution_count": null,
   "metadata": {
    "execution": {
     "iopub.execute_input": "2024-07-15T14:00:30.898272Z",
     "iopub.status.busy": "2024-07-15T14:00:30.897860Z",
     "iopub.status.idle": "2024-07-15T14:02:38.157593Z",
     "shell.execute_reply": "2024-07-15T14:02:38.156391Z",
     "shell.execute_reply.started": "2024-07-15T14:00:30.898240Z"
    },
    "scrolled": true
   },
   "outputs": [],
   "source": [
    "encoder = OneHotEncoder(sparse_output=False)\n",
    "encoder_value = encoder.fit_transform(db[['brand','color','name','p_attributes','description']])\n",
    "encoder_numeric = db[['price','avg_rating']].values\n",
    "features_net = np.hstack((encoder_numeric,encoder_value))\n",
    "similarity_matrix = cosine_similarity(features_net)"
   ]
  },
  {
   "cell_type": "code",
   "execution_count": null,
   "metadata": {
    "execution": {
     "iopub.execute_input": "2024-07-15T14:00:28.058058Z",
     "iopub.status.busy": "2024-07-15T14:00:28.057261Z",
     "iopub.status.idle": "2024-07-15T14:00:28.067426Z",
     "shell.execute_reply": "2024-07-15T14:00:28.066334Z",
     "shell.execute_reply.started": "2024-07-15T14:00:28.058021Z"
    },
    "scrolled": true
   },
   "outputs": [],
   "source": [
    "# Recommending top 3 products based on current product \n",
    "\n",
    "top3 = recommend_cosine(db,16200858)\n",
    "print(top3['p_id'],top3['name'])"
   ]
  },
  {
   "cell_type": "markdown",
   "metadata": {},
   "source": [
    "Drawing inferences from above data"
   ]
  },
  {
   "cell_type": "code",
   "execution_count": null,
   "metadata": {
    "execution": {
     "iopub.execute_input": "2024-07-15T16:49:18.970929Z",
     "iopub.status.busy": "2024-07-15T16:49:18.970544Z",
     "iopub.status.idle": "2024-07-15T16:49:19.417425Z",
     "shell.execute_reply": "2024-07-15T16:49:19.415511Z",
     "shell.execute_reply.started": "2024-07-15T16:49:18.970899Z"
    },
    "scrolled": true
   },
   "outputs": [],
   "source": [
    "# Top Rated Products\n",
    "\n",
    "top_rated_products = db.sort_values(by='avg_rating', ascending=False).head(10)\n",
    "print(\"Top Rated Products:\\n\", top_rated_products[['name', 'brand', 'avg_rating', 'price']])\n",
    "\n",
    "plt.figure(figsize=(10, 6))\n",
    "plt.barh(top_rated_products['name'], top_rated_products['avg_rating'], color='skyblue')\n",
    "plt.xlabel('Average Rating')\n",
    "plt.title('Top Rated Products')\n",
    "plt.gca().invert_yaxis()  # Invert y-axis to display highest rating at the top\n",
    "plt.show()"
   ]
  },
  {
   "cell_type": "code",
   "execution_count": null,
   "metadata": {
    "execution": {
     "iopub.execute_input": "2024-07-15T14:06:29.500665Z",
     "iopub.status.busy": "2024-07-15T14:06:29.500212Z",
     "iopub.status.idle": "2024-07-15T14:06:29.518210Z",
     "shell.execute_reply": "2024-07-15T14:06:29.517078Z",
     "shell.execute_reply.started": "2024-07-15T14:06:29.500630Z"
    },
    "scrolled": true
   },
   "outputs": [],
   "source": [
    "# High sale products \n",
    "\n",
    "high_sale_products = db.sort_values(by='ratingCount', ascending=False).head(10)\n",
    "print(\"High Sale Products:\\n\", high_sale_products[['name', 'brand', 'ratingCount', 'price']])"
   ]
  },
  {
   "cell_type": "code",
   "execution_count": null,
   "metadata": {
    "scrolled": true
   },
   "outputs": [],
   "source": [
    "# Average Rating by Brand\n",
    "\n",
    "avg_rating_by_brand = data.groupby('brand')['avg_rating'].mean().sort_values(ascending=False).head(10)\n",
    "print(\"Average Rating by Brand:\\n\", avg_rating_by_brand)"
   ]
  },
  {
   "cell_type": "markdown",
   "metadata": {},
   "source": [
    "# Instagram dataset"
   ]
  },
  {
   "cell_type": "markdown",
   "metadata": {},
   "source": [
    "- Data scraped from popular myntra run instagram pages \n",
    "- Extraction of number of likes per product to get a general trend "
   ]
  },
  {
   "cell_type": "code",
   "execution_count": null,
   "metadata": {
    "execution": {
     "iopub.execute_input": "2024-07-15T13:37:35.020242Z",
     "iopub.status.busy": "2024-07-15T13:37:35.019759Z",
     "iopub.status.idle": "2024-07-15T13:37:35.025896Z",
     "shell.execute_reply": "2024-07-15T13:37:35.024705Z",
     "shell.execute_reply.started": "2024-07-15T13:37:35.020204Z"
    },
    "scrolled": true
   },
   "outputs": [],
   "source": [
    "import os\n",
    "import pandas as pd\n",
    "import numpy as np\n",
    "from scipy.sparse import csr_matrix\n",
    "from scipy.sparse.linalg import svds\n",
    "insta_path = \"/kaggle/input/instagram-posts/myntra_instagram_dataset.xlsx\""
   ]
  },
  {
   "cell_type": "code",
   "execution_count": null,
   "metadata": {
    "execution": {
     "iopub.execute_input": "2024-07-15T13:37:35.657110Z",
     "iopub.status.busy": "2024-07-15T13:37:35.656710Z",
     "iopub.status.idle": "2024-07-15T13:37:35.827502Z",
     "shell.execute_reply": "2024-07-15T13:37:35.826399Z",
     "shell.execute_reply.started": "2024-07-15T13:37:35.657077Z"
    },
    "scrolled": true
   },
   "outputs": [],
   "source": [
    "insta_df = pd.ExcelFile(insta_path)\n",
    "sheet_names = insta_df.sheet_names\n",
    "insta_db = pd.read_excel(insta_df, sheet_name=\"Data\")\n",
    "insta_db.head()\n",
    "insta_db.columns"
   ]
  },
  {
   "cell_type": "code",
   "execution_count": null,
   "metadata": {
    "execution": {
     "iopub.execute_input": "2024-07-15T13:37:36.260655Z",
     "iopub.status.busy": "2024-07-15T13:37:36.260185Z",
     "iopub.status.idle": "2024-07-15T13:37:36.275992Z",
     "shell.execute_reply": "2024-07-15T13:37:36.274770Z",
     "shell.execute_reply.started": "2024-07-15T13:37:36.260618Z"
    },
    "scrolled": true
   },
   "outputs": [],
   "source": [
    "#Data cleaning \n",
    "\n",
    "columns = ['locationName','commentsCount','ownerUsername','productType']\n",
    "insta_db = insta_db.drop(columns, axis=1)\n",
    "insta_db.head()"
   ]
  },
  {
   "cell_type": "code",
   "execution_count": null,
   "metadata": {
    "execution": {
     "iopub.execute_input": "2024-07-15T13:37:36.821237Z",
     "iopub.status.busy": "2024-07-15T13:37:36.820813Z",
     "iopub.status.idle": "2024-07-15T13:37:36.832167Z",
     "shell.execute_reply": "2024-07-15T13:37:36.831006Z",
     "shell.execute_reply.started": "2024-07-15T13:37:36.821193Z"
    },
    "scrolled": true
   },
   "outputs": [],
   "source": [
    "# Remove null values \n",
    "\n",
    "insta_db = insta_db.dropna()\n",
    "insta_db.isna().sum()"
   ]
  },
  {
   "cell_type": "code",
   "execution_count": null,
   "metadata": {
    "execution": {
     "iopub.execute_input": "2024-07-15T13:37:37.731144Z",
     "iopub.status.busy": "2024-07-15T13:37:37.730750Z",
     "iopub.status.idle": "2024-07-15T13:37:37.744880Z",
     "shell.execute_reply": "2024-07-15T13:37:37.743609Z",
     "shell.execute_reply.started": "2024-07-15T13:37:37.731111Z"
    },
    "scrolled": true
   },
   "outputs": [],
   "source": [
    "insta_db['product_id'] = None \n",
    "insta_db.head()"
   ]
  },
  {
   "cell_type": "code",
   "execution_count": null,
   "metadata": {
    "execution": {
     "iopub.execute_input": "2024-07-15T13:37:38.234793Z",
     "iopub.status.busy": "2024-07-15T13:37:38.234377Z",
     "iopub.status.idle": "2024-07-15T13:37:38.373739Z",
     "shell.execute_reply": "2024-07-15T13:37:38.372672Z",
     "shell.execute_reply.started": "2024-07-15T13:37:38.234759Z"
    },
    "scrolled": true
   },
   "outputs": [],
   "source": [
    "# Extract product_id per record from caption\n",
    "\n",
    "import re \n",
    "\n",
    "new_rows = []\n",
    "length = insta_db.shape[0]\n",
    "for i in range(length):\n",
    "    string = insta_db.iloc[i,1]\n",
    "    pattern = r'\\b\\d{6,}\\b'\n",
    "    product_code = re.findall(pattern, string)\n",
    "    product_codes_str = ', '.join(product_code)\n",
    "    insta_db.iloc[i,3] = product_codes_str"
   ]
  },
  {
   "cell_type": "code",
   "execution_count": null,
   "metadata": {
    "execution": {
     "iopub.execute_input": "2024-07-15T13:37:38.942765Z",
     "iopub.status.busy": "2024-07-15T13:37:38.942343Z",
     "iopub.status.idle": "2024-07-15T13:37:38.955556Z",
     "shell.execute_reply": "2024-07-15T13:37:38.954362Z",
     "shell.execute_reply.started": "2024-07-15T13:37:38.942725Z"
    },
    "scrolled": true
   },
   "outputs": [],
   "source": [
    "columns = ['url','caption']\n",
    "insta_db = insta_db.drop(columns, axis=1)\n",
    "insta_db.head()\n",
    "insta_db.tail()"
   ]
  },
  {
   "cell_type": "code",
   "execution_count": null,
   "metadata": {
    "execution": {
     "iopub.execute_input": "2024-07-15T13:37:39.395488Z",
     "iopub.status.busy": "2024-07-15T13:37:39.394638Z",
     "iopub.status.idle": "2024-07-15T13:37:39.402567Z",
     "shell.execute_reply": "2024-07-15T13:37:39.401400Z",
     "shell.execute_reply.started": "2024-07-15T13:37:39.395449Z"
    },
    "scrolled": true
   },
   "outputs": [],
   "source": [
    "# Remove rows with empty cells of product_id column\n",
    "insta_db = insta_db.drop(insta_db[insta_db['product_id']==''].index)"
   ]
  },
  {
   "cell_type": "code",
   "execution_count": null,
   "metadata": {
    "execution": {
     "iopub.execute_input": "2024-07-15T13:37:42.607560Z",
     "iopub.status.busy": "2024-07-15T13:37:42.607129Z",
     "iopub.status.idle": "2024-07-15T13:37:42.625870Z",
     "shell.execute_reply": "2024-07-15T13:37:42.624701Z",
     "shell.execute_reply.started": "2024-07-15T13:37:42.607526Z"
    },
    "scrolled": true
   },
   "outputs": [],
   "source": [
    "# Final dataset of instagram based products vs likes per item\n",
    "\n",
    "insta_updated = insta_db.assign(product_id=insta_db['product_id'].str.split(', ')).explode('product_id')\n",
    "insta_updated = insta_updated.reset_index(drop=True)\n",
    "insta_updated['likesCount'] = insta_updated['likesCount'].astype(int)\n",
    "insta_updated = insta_updated.sort_values(by='likesCount',ascending=False)\n",
    "insta_updated = insta_updated.replace(-1,0)\n",
    "insta_updated.head()"
   ]
  }
 ],
 "metadata": {
  "kaggle": {
   "accelerator": "none",
   "dataSources": [
    {
     "datasetId": 2616285,
     "sourceId": 4470133,
     "sourceType": "datasetVersion"
    },
    {
     "datasetId": 5359415,
     "sourceId": 8912756,
     "sourceType": "datasetVersion"
    },
    {
     "datasetId": 5378568,
     "sourceId": 8939161,
     "sourceType": "datasetVersion"
    },
    {
     "datasetId": 5386639,
     "sourceId": 8950894,
     "sourceType": "datasetVersion"
    },
    {
     "datasetId": 5386755,
     "sourceId": 8951054,
     "sourceType": "datasetVersion"
    },
    {
     "datasetId": 5389508,
     "sourceId": 8955353,
     "sourceType": "datasetVersion"
    },
    {
     "datasetId": 5393175,
     "sourceId": 8960391,
     "sourceType": "datasetVersion"
    }
   ],
   "dockerImageVersionId": 30732,
   "isGpuEnabled": false,
   "isInternetEnabled": true,
   "language": "python",
   "sourceType": "notebook"
  },
  "kernelspec": {
   "display_name": "Python 3 (ipykernel)",
   "language": "python",
   "name": "python3"
  },
  "language_info": {
   "codemirror_mode": {
    "name": "ipython",
    "version": 3
   },
   "file_extension": ".py",
   "mimetype": "text/x-python",
   "name": "python",
   "nbconvert_exporter": "python",
   "pygments_lexer": "ipython3",
   "version": "3.9.12"
  }
 },
 "nbformat": 4,
 "nbformat_minor": 4
}
